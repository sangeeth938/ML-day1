{
  "nbformat": 4,
  "nbformat_minor": 0,
  "metadata": {
    "colab": {
      "name": "ML Day1.ipynb",
      "provenance": [],
      "authorship_tag": "ABX9TyOtiydgc5o1VKq+y+crGIqa",
      "include_colab_link": true
    },
    "kernelspec": {
      "name": "python3",
      "display_name": "Python 3"
    },
    "language_info": {
      "name": "python"
    }
  },
  "cells": [
    {
      "cell_type": "markdown",
      "metadata": {
        "id": "view-in-github",
        "colab_type": "text"
      },
      "source": [
        "<a href=\"https://colab.research.google.com/github/sangeeth938/ML-day1/blob/main/ML_Day1.ipynb\" target=\"_parent\"><img src=\"https://colab.research.google.com/assets/colab-badge.svg\" alt=\"Open In Colab\"/></a>"
      ]
    },
    {
      "cell_type": "markdown",
      "metadata": {
        "id": "5sD5oaTzXGWI"
      },
      "source": [
        "# **NUMPY**"
      ]
    },
    {
      "cell_type": "code",
      "metadata": {
        "colab": {
          "base_uri": "https://localhost:8080/"
        },
        "id": "k9OPpXGQWHMx",
        "outputId": "cfdf00a3-7708-4de3-8f04-220733e44306"
      },
      "source": [
        "import numpy as np\n",
        "a=[1,2,3,4]\n",
        "arr1=np.array(a)\n",
        "b=[[1,2,3,4],[5,6,7,8]]\n",
        "arr2=np.array(b)\n",
        "print(arr1)\n",
        "print(arr2)\n"
      ],
      "execution_count": null,
      "outputs": [
        {
          "output_type": "stream",
          "text": [
            "[1 2 3 4]\n",
            "[[1 2 3 4]\n",
            " [5 6 7 8]]\n"
          ],
          "name": "stdout"
        }
      ]
    },
    {
      "cell_type": "code",
      "metadata": {
        "colab": {
          "base_uri": "https://localhost:8080/"
        },
        "id": "OsLA7bkLXf9U",
        "outputId": "a0fa957f-9639-4d25-a0da-6b71b904f6a0"
      },
      "source": [
        "print(type(a))\n",
        "print(type(arr1))\n",
        "print(type(b))\n",
        "print(type(arr2))"
      ],
      "execution_count": null,
      "outputs": [
        {
          "output_type": "stream",
          "text": [
            "<class 'list'>\n",
            "<class 'numpy.ndarray'>\n",
            "<class 'list'>\n",
            "<class 'numpy.ndarray'>\n"
          ],
          "name": "stdout"
        }
      ]
    },
    {
      "cell_type": "code",
      "metadata": {
        "colab": {
          "base_uri": "https://localhost:8080/"
        },
        "id": "1zAhzB-0XsVW",
        "outputId": "c959cd06-c670-4c81-c2dc-dd85cf2c7d60"
      },
      "source": [
        "import sys\n",
        "\n",
        "s=range(1000)\n",
        "print(s)"
      ],
      "execution_count": null,
      "outputs": [
        {
          "output_type": "stream",
          "text": [
            "range(0, 1000)\n"
          ],
          "name": "stdout"
        }
      ]
    },
    {
      "cell_type": "code",
      "metadata": {
        "colab": {
          "base_uri": "https://localhost:8080/",
          "height": 166
        },
        "id": "P04QnY_HbMMO",
        "outputId": "6f5d5f8a-9f2d-4197-888e-014eaa038541"
      },
      "source": [
        "print(random.s)\n",
        "slice"
      ],
      "execution_count": null,
      "outputs": [
        {
          "output_type": "error",
          "ename": "NameError",
          "evalue": "ignored",
          "traceback": [
            "\u001b[0;31m---------------------------------------------------------------------------\u001b[0m",
            "\u001b[0;31mNameError\u001b[0m                                 Traceback (most recent call last)",
            "\u001b[0;32m<ipython-input-5-a30b31fb6d48>\u001b[0m in \u001b[0;36m<module>\u001b[0;34m()\u001b[0m\n\u001b[0;32m----> 1\u001b[0;31m \u001b[0mprint\u001b[0m\u001b[0;34m(\u001b[0m\u001b[0mrandom\u001b[0m\u001b[0;34m.\u001b[0m\u001b[0ms\u001b[0m\u001b[0;34m)\u001b[0m\u001b[0;34m\u001b[0m\u001b[0;34m\u001b[0m\u001b[0m\n\u001b[0m",
            "\u001b[0;31mNameError\u001b[0m: name 'random' is not defined"
          ]
        }
      ]
    },
    {
      "cell_type": "code",
      "metadata": {
        "colab": {
          "base_uri": "https://localhost:8080/"
        },
        "id": "4KX28DYvbQ6t",
        "outputId": "a870fa5c-35dc-436a-99a1-f3400db20ed5"
      },
      "source": [
        "print(\"size of each element in s:\",sys.getsizeof(s))\n",
        "print(\"complete size of s is\", sys.getsizeof(s)*len(s))"
      ],
      "execution_count": null,
      "outputs": [
        {
          "output_type": "stream",
          "text": [
            "size of each element in s: 8096\n",
            "complete size of s is 8096000\n"
          ],
          "name": "stdout"
        }
      ]
    },
    {
      "cell_type": "code",
      "metadata": {
        "colab": {
          "base_uri": "https://localhost:8080/"
        },
        "id": "3-MkFx4ybmH3",
        "outputId": "25b8990c-0ce8-408b-817e-df55cc468617"
      },
      "source": [
        "import numpy as np\n",
        "s=np.arange(1000)\n",
        "print(\"size of s in bytes\",  s.itemsize)\n",
        "print(\"complete size of s is\", s.itemsize*len(s))"
      ],
      "execution_count": null,
      "outputs": [
        {
          "output_type": "stream",
          "text": [
            "size of s in bytes 8\n",
            "complete size of s is 8000\n"
          ],
          "name": "stdout"
        }
      ]
    },
    {
      "cell_type": "code",
      "metadata": {
        "colab": {
          "base_uri": "https://localhost:8080/"
        },
        "id": "PZhD66A1iFfl",
        "outputId": "71d315bf-fa28-4f9e-97a2-c57365e1db34"
      },
      "source": [
        "#importing time module and trying to find the taken for an execution\n",
        "import time\n",
        "a=range(1000)\n",
        "b=range(1000)\n",
        "start=time.time()\n",
        "ab=[(a*b) for a,b in zip(a,b)] #multiplication of items using list comprehend and zip is used for index multiplexing\n",
        "end=time.time()\n",
        "print(\"time taken for execution is\",end-start)"
      ],
      "execution_count": null,
      "outputs": [
        {
          "output_type": "stream",
          "text": [
            "time taken for execution is 0.0001761913299560547\n"
          ],
          "name": "stdout"
        }
      ]
    },
    {
      "cell_type": "code",
      "metadata": {
        "colab": {
          "base_uri": "https://localhost:8080/"
        },
        "id": "Vkjxqlabk1bt",
        "outputId": "c3d2be59-6049-4632-a88d-dfd0e05dcaf7"
      },
      "source": [
        "#calculating execution time using numpy\n",
        "import numpy as np\n",
        "import time\n",
        "arr1=np.arange(1000)\n",
        "arr2=np.arange(1000)\n",
        "start=time.time()\n",
        "array_mul=arr1*arr2\n",
        "end=time.time()\n",
        "print(\"time taken for execution is\",end-start)"
      ],
      "execution_count": null,
      "outputs": [
        {
          "output_type": "stream",
          "text": [
            "time taken for execution is 7.891654968261719e-05\n"
          ],
          "name": "stdout"
        }
      ]
    },
    {
      "cell_type": "code",
      "metadata": {
        "colab": {
          "base_uri": "https://localhost:8080/"
        },
        "id": "Guo3_wmalAjQ",
        "outputId": "f2cbd62c-3f00-47b1-bec2-11f6cc8e64b5"
      },
      "source": [
        "list1=[1,2,3,4]\n",
        "arr=np.array(list1)\n",
        "print(arr)"
      ],
      "execution_count": null,
      "outputs": [
        {
          "output_type": "stream",
          "text": [
            "[1 2 3 4]\n"
          ],
          "name": "stdout"
        }
      ]
    },
    {
      "cell_type": "code",
      "metadata": {
        "colab": {
          "base_uri": "https://localhost:8080/",
          "height": 166
        },
        "id": "miGUNi-RmUdV",
        "outputId": "b69b486b-2803-46ac-dfce-ce4d453b6a4d"
      },
      "source": [
        "print(list1+1)"
      ],
      "execution_count": null,
      "outputs": [
        {
          "output_type": "error",
          "ename": "TypeError",
          "evalue": "ignored",
          "traceback": [
            "\u001b[0;31m---------------------------------------------------------------------------\u001b[0m",
            "\u001b[0;31mTypeError\u001b[0m                                 Traceback (most recent call last)",
            "\u001b[0;32m<ipython-input-22-b1eed72796b3>\u001b[0m in \u001b[0;36m<module>\u001b[0;34m()\u001b[0m\n\u001b[0;32m----> 1\u001b[0;31m \u001b[0mprint\u001b[0m\u001b[0;34m(\u001b[0m\u001b[0mlist1\u001b[0m\u001b[0;34m+\u001b[0m\u001b[0;36m1\u001b[0m\u001b[0;34m)\u001b[0m\u001b[0;34m\u001b[0m\u001b[0;34m\u001b[0m\u001b[0m\n\u001b[0m",
            "\u001b[0;31mTypeError\u001b[0m: can only concatenate list (not \"int\") to list"
          ]
        }
      ]
    },
    {
      "cell_type": "code",
      "metadata": {
        "colab": {
          "base_uri": "https://localhost:8080/"
        },
        "id": "fXQEMUVumfFA",
        "outputId": "f07dfd0d-5618-4d73-e756-1b7118892a1c"
      },
      "source": [
        "print(arr+1)"
      ],
      "execution_count": null,
      "outputs": [
        {
          "output_type": "stream",
          "text": [
            "[2 3 4 5]\n"
          ],
          "name": "stdout"
        }
      ]
    },
    {
      "cell_type": "code",
      "metadata": {
        "colab": {
          "base_uri": "https://localhost:8080/"
        },
        "id": "HYiVu5AMmikX",
        "outputId": "9a57dc1e-cf3b-498c-c370-8349ee192c47"
      },
      "source": [
        "print(arr)\n"
      ],
      "execution_count": null,
      "outputs": [
        {
          "output_type": "stream",
          "text": [
            "[1 2 3 4]\n"
          ],
          "name": "stdout"
        }
      ]
    },
    {
      "cell_type": "code",
      "metadata": {
        "colab": {
          "base_uri": "https://localhost:8080/"
        },
        "id": "r_GtO_HYml0u",
        "outputId": "3839e4b1-3147-40a4-a7de-b20d3bb0a9ca"
      },
      "source": [
        "print(arr-1)"
      ],
      "execution_count": null,
      "outputs": [
        {
          "output_type": "stream",
          "text": [
            "[0 1 2 3]\n"
          ],
          "name": "stdout"
        }
      ]
    },
    {
      "cell_type": "code",
      "metadata": {
        "colab": {
          "base_uri": "https://localhost:8080/"
        },
        "id": "zSeht0x8mn30",
        "outputId": "4d629dec-3a60-4e5f-fb96-b5e650e5bc74"
      },
      "source": [
        "import numpy as np\n",
        "arr1=np.array([1,2,3])\n",
        "print(arr1)"
      ],
      "execution_count": null,
      "outputs": [
        {
          "output_type": "stream",
          "text": [
            "[1 2 3]\n"
          ],
          "name": "stdout"
        }
      ]
    },
    {
      "cell_type": "code",
      "metadata": {
        "colab": {
          "base_uri": "https://localhost:8080/"
        },
        "id": "0YrmiUYnnX7O",
        "outputId": "e4b425b1-27b8-480a-dd8a-8306a8423828"
      },
      "source": [
        "type(arr1)"
      ],
      "execution_count": null,
      "outputs": [
        {
          "output_type": "execute_result",
          "data": {
            "text/plain": [
              "numpy.ndarray"
            ]
          },
          "metadata": {
            "tags": []
          },
          "execution_count": 28
        }
      ]
    },
    {
      "cell_type": "code",
      "metadata": {
        "colab": {
          "base_uri": "https://localhost:8080/"
        },
        "id": "RD4hRPHrpMtn",
        "outputId": "63bc3a4c-5b25-4b24-bd41-e448203f60e4"
      },
      "source": [
        "arr2=np.zeros((2,2))\n",
        "print(arr2)"
      ],
      "execution_count": null,
      "outputs": [
        {
          "output_type": "stream",
          "text": [
            "[[0. 0.]\n",
            " [0. 0.]]\n"
          ],
          "name": "stdout"
        }
      ]
    },
    {
      "cell_type": "code",
      "metadata": {
        "id": "pOcAmInFpcbQ",
        "colab": {
          "base_uri": "https://localhost:8080/"
        },
        "outputId": "6afaf2a8-4d01-42ed-91cb-755ba6882a82"
      },
      "source": [
        "import numpy as np\n",
        "arr1= np.array([[1,2,3,4],[4,5,6,7]], ndmin=2)\n",
        "print(arr1)  "
      ],
      "execution_count": null,
      "outputs": [
        {
          "output_type": "stream",
          "text": [
            "[[1 2 3 4]\n",
            " [4 5 6 7]]\n"
          ],
          "name": "stdout"
        }
      ]
    },
    {
      "cell_type": "code",
      "metadata": {
        "colab": {
          "base_uri": "https://localhost:8080/"
        },
        "id": "9mMisB2zn_bB",
        "outputId": "31007fee-7d78-489e-8b67-9183693d258a"
      },
      "source": [
        "a=[[1,2,3,4],[2,3,4,5]]\n",
        "print(a)"
      ],
      "execution_count": null,
      "outputs": [
        {
          "output_type": "stream",
          "text": [
            "[[1, 2, 3, 4], [2, 3, 4, 5]]\n"
          ],
          "name": "stdout"
        }
      ]
    },
    {
      "cell_type": "code",
      "metadata": {
        "colab": {
          "base_uri": "https://localhost:8080/"
        },
        "id": "wMOZZRPjqD7l",
        "outputId": "9b36cd87-7208-483c-90fc-1da4932892fd"
      },
      "source": [
        "import numpy as np\n",
        "arr1= np.array(a,ndmin=2)\n",
        "print(arr1)"
      ],
      "execution_count": null,
      "outputs": [
        {
          "output_type": "stream",
          "text": [
            "[[1 2 3 4]\n",
            " [2 3 4 5]]\n"
          ],
          "name": "stdout"
        }
      ]
    },
    {
      "cell_type": "code",
      "metadata": {
        "colab": {
          "base_uri": "https://localhost:8080/"
        },
        "id": "Lb09s9DnqPAT",
        "outputId": "851a1a20-d667-4606-a63a-69969ec08d9b"
      },
      "source": [
        "print(a)\n"
      ],
      "execution_count": null,
      "outputs": [
        {
          "output_type": "stream",
          "text": [
            "[[1, 2, 3, 4], [2, 3, 4, 5]]\n"
          ],
          "name": "stdout"
        }
      ]
    },
    {
      "cell_type": "code",
      "metadata": {
        "colab": {
          "base_uri": "https://localhost:8080/"
        },
        "id": "lxcxL1pUqTDc",
        "outputId": "9e0f73cd-e84b-4381-fbb6-acb22ae2fcfa"
      },
      "source": [
        "import numpy as  np\n",
        "arr2= np.array(a,ndmin=10)\n",
        "print(arr2)"
      ],
      "execution_count": null,
      "outputs": [
        {
          "output_type": "stream",
          "text": [
            "[[[[[[[[[[1 2 3 4]\n",
            "         [2 3 4 5]]]]]]]]]]\n"
          ],
          "name": "stdout"
        }
      ]
    },
    {
      "cell_type": "code",
      "metadata": {
        "colab": {
          "base_uri": "https://localhost:8080/"
        },
        "id": "JeX8jK0VqdEL",
        "outputId": "c210d668-9333-4050-f233-5bb4a05531c6"
      },
      "source": [
        "import numpy as np\n",
        "np.random.rand(3,3)"
      ],
      "execution_count": null,
      "outputs": [
        {
          "output_type": "execute_result",
          "data": {
            "text/plain": [
              "array([[0.81482489, 0.19373149, 0.30374561],\n",
              "       [0.3790363 , 0.98737955, 0.13043909],\n",
              "       [0.14920783, 0.25596438, 0.72223503]])"
            ]
          },
          "metadata": {
            "tags": []
          },
          "execution_count": 11
        }
      ]
    },
    {
      "cell_type": "code",
      "metadata": {
        "colab": {
          "base_uri": "https://localhost:8080/"
        },
        "id": "IF0pHDPqqogi",
        "outputId": "bc23ac45-1c22-4cf5-9c09-00843418ed06"
      },
      "source": [
        "import numpy as np\n",
        "arr1=np.random.rand(3,3)\n",
        "arr2=np.random.rand(3,3)\n",
        "sum=np.add(arr1,arr2)\n",
        "print(arr1)\n",
        "print(arr2)\n",
        "print(sum)"
      ],
      "execution_count": null,
      "outputs": [
        {
          "output_type": "stream",
          "text": [
            "[[0.31612059 0.6506383  0.77533801]\n",
            " [0.6062376  0.05363913 0.14786135]\n",
            " [0.68133347 0.09418332 0.45382418]]\n",
            "[[0.84049238 0.91362813 0.18885022]\n",
            " [0.06079375 0.18508517 0.71082795]\n",
            " [0.43918339 0.91933836 0.88892438]]\n",
            "[[1.15661298 1.56426643 0.96418822]\n",
            " [0.66703135 0.2387243  0.8586893 ]\n",
            " [1.12051687 1.01352168 1.34274856]]\n"
          ],
          "name": "stdout"
        }
      ]
    },
    {
      "cell_type": "code",
      "metadata": {
        "colab": {
          "base_uri": "https://localhost:8080/"
        },
        "id": "lDpgt6U8q_z9",
        "outputId": "c2dda848-c464-432f-b468-8e3b5f7956b3"
      },
      "source": [
        "sub=np.subtract(arr1,arr2)\n",
        "print(sub)"
      ],
      "execution_count": null,
      "outputs": [
        {
          "output_type": "stream",
          "text": [
            "[[-0.52437179 -0.26298983  0.58648779]\n",
            " [ 0.54544386 -0.13144604 -0.5629666 ]\n",
            " [ 0.24215008 -0.82515504 -0.4351002 ]]\n"
          ],
          "name": "stdout"
        }
      ]
    },
    {
      "cell_type": "code",
      "metadata": {
        "colab": {
          "base_uri": "https://localhost:8080/"
        },
        "id": "DTdq2YHorMd8",
        "outputId": "b6cc1b19-79f0-42f7-bf08-2ef023e93403"
      },
      "source": [
        "print(arr1)"
      ],
      "execution_count": null,
      "outputs": [
        {
          "output_type": "stream",
          "text": [
            "[[0.31612059 0.6506383  0.77533801]\n",
            " [0.6062376  0.05363913 0.14786135]\n",
            " [0.68133347 0.09418332 0.45382418]]\n"
          ],
          "name": "stdout"
        }
      ]
    },
    {
      "cell_type": "code",
      "metadata": {
        "colab": {
          "base_uri": "https://localhost:8080/"
        },
        "id": "1O6uzSSUrZEC",
        "outputId": "0b10c459-23b1-45dd-d53e-c222e4255299"
      },
      "source": [
        "arr1[1,1]"
      ],
      "execution_count": null,
      "outputs": [
        {
          "output_type": "execute_result",
          "data": {
            "text/plain": [
              "0.05363912868878162"
            ]
          },
          "metadata": {
            "tags": []
          },
          "execution_count": 17
        }
      ]
    },
    {
      "cell_type": "code",
      "metadata": {
        "colab": {
          "base_uri": "https://localhost:8080/",
          "height": 166
        },
        "id": "fZ8NcgmarcDV",
        "outputId": "717fc2ef-56a2-4357-8d37-4b32eb2f2006"
      },
      "source": [
        "arr1[3,0]"
      ],
      "execution_count": null,
      "outputs": [
        {
          "output_type": "error",
          "ename": "IndexError",
          "evalue": "ignored",
          "traceback": [
            "\u001b[0;31m---------------------------------------------------------------------------\u001b[0m",
            "\u001b[0;31mIndexError\u001b[0m                                Traceback (most recent call last)",
            "\u001b[0;32m<ipython-input-18-26154e27e259>\u001b[0m in \u001b[0;36m<module>\u001b[0;34m()\u001b[0m\n\u001b[0;32m----> 1\u001b[0;31m \u001b[0marr1\u001b[0m\u001b[0;34m[\u001b[0m\u001b[0;36m3\u001b[0m\u001b[0;34m,\u001b[0m\u001b[0;36m0\u001b[0m\u001b[0;34m]\u001b[0m\u001b[0;34m\u001b[0m\u001b[0;34m\u001b[0m\u001b[0m\n\u001b[0m",
            "\u001b[0;31mIndexError\u001b[0m: index 3 is out of bounds for axis 0 with size 3"
          ]
        }
      ]
    },
    {
      "cell_type": "code",
      "metadata": {
        "colab": {
          "base_uri": "https://localhost:8080/"
        },
        "id": "kIZof0DXre8b",
        "outputId": "bb34f975-391e-4349-988f-d59c25fa1825"
      },
      "source": [
        "np.arange(2,2)"
      ],
      "execution_count": null,
      "outputs": [
        {
          "output_type": "execute_result",
          "data": {
            "text/plain": [
              "array([], dtype=int64)"
            ]
          },
          "metadata": {
            "tags": []
          },
          "execution_count": 19
        }
      ]
    },
    {
      "cell_type": "code",
      "metadata": {
        "colab": {
          "base_uri": "https://localhost:8080/"
        },
        "id": "8M0uzfvPriDj",
        "outputId": "ae3c173d-c630-4ca7-be5e-86230f2f0654"
      },
      "source": [
        "#indexing and slicing\n",
        "\n",
        "a=[1,2,3.4,\"sangeeth\",True,False,2+3j,0]\n",
        "print(type(a))"
      ],
      "execution_count": null,
      "outputs": [
        {
          "output_type": "stream",
          "text": [
            "<class 'list'>\n"
          ],
          "name": "stdout"
        }
      ]
    },
    {
      "cell_type": "code",
      "metadata": {
        "colab": {
          "base_uri": "https://localhost:8080/"
        },
        "id": "i4qZkg_gsE2t",
        "outputId": "a151e3c4-076a-4af9-8e15-aa855656c135"
      },
      "source": [
        "a[0]"
      ],
      "execution_count": null,
      "outputs": [
        {
          "output_type": "execute_result",
          "data": {
            "text/plain": [
              "1"
            ]
          },
          "metadata": {
            "tags": []
          },
          "execution_count": 21
        }
      ]
    },
    {
      "cell_type": "code",
      "metadata": {
        "colab": {
          "base_uri": "https://localhost:8080/",
          "height": 166
        },
        "id": "cEkyiqxlsHeG",
        "outputId": "fae5f64f-0de4-4712-dbec-458a33718628"
      },
      "source": [
        "a[8]\n"
      ],
      "execution_count": null,
      "outputs": [
        {
          "output_type": "error",
          "ename": "IndexError",
          "evalue": "ignored",
          "traceback": [
            "\u001b[0;31m---------------------------------------------------------------------------\u001b[0m",
            "\u001b[0;31mIndexError\u001b[0m                                Traceback (most recent call last)",
            "\u001b[0;32m<ipython-input-22-beec7994ef7f>\u001b[0m in \u001b[0;36m<module>\u001b[0;34m()\u001b[0m\n\u001b[0;32m----> 1\u001b[0;31m \u001b[0ma\u001b[0m\u001b[0;34m[\u001b[0m\u001b[0;36m8\u001b[0m\u001b[0;34m]\u001b[0m\u001b[0;34m\u001b[0m\u001b[0;34m\u001b[0m\u001b[0m\n\u001b[0m",
            "\u001b[0;31mIndexError\u001b[0m: list index out of range"
          ]
        }
      ]
    },
    {
      "cell_type": "code",
      "metadata": {
        "colab": {
          "base_uri": "https://localhost:8080/"
        },
        "id": "_FPqf4c5sJZX",
        "outputId": "9d3da095-4699-4dfd-e757-5d38f710efcc"
      },
      "source": [
        "a[:]"
      ],
      "execution_count": null,
      "outputs": [
        {
          "output_type": "execute_result",
          "data": {
            "text/plain": [
              "[1, 2, 3.4, 'sangeeth', True, False, (2+3j), 0]"
            ]
          },
          "metadata": {
            "tags": []
          },
          "execution_count": 23
        }
      ]
    },
    {
      "cell_type": "code",
      "metadata": {
        "colab": {
          "base_uri": "https://localhost:8080/"
        },
        "id": "dR4qFfKlsN39",
        "outputId": "4f25a654-3843-48df-b6fa-a233554a10e3"
      },
      "source": [
        "a[0:8]"
      ],
      "execution_count": null,
      "outputs": [
        {
          "output_type": "execute_result",
          "data": {
            "text/plain": [
              "[1, 2, 3.4, 'sangeeth', True, False, (2+3j), 0]"
            ]
          },
          "metadata": {
            "tags": []
          },
          "execution_count": 24
        }
      ]
    },
    {
      "cell_type": "code",
      "metadata": {
        "colab": {
          "base_uri": "https://localhost:8080/"
        },
        "id": "gAgi3cBLsRz1",
        "outputId": "0595ea6a-1e3f-4463-801e-b4781cd02065"
      },
      "source": [
        "a[2:6]"
      ],
      "execution_count": null,
      "outputs": [
        {
          "output_type": "execute_result",
          "data": {
            "text/plain": [
              "[3.4, 'sangeeth', True, False]"
            ]
          },
          "metadata": {
            "tags": []
          },
          "execution_count": 25
        }
      ]
    },
    {
      "cell_type": "code",
      "metadata": {
        "colab": {
          "base_uri": "https://localhost:8080/"
        },
        "id": "VXnwQaZZsWiC",
        "outputId": "5c8d4014-29f9-4fd0-d56a-e0ae91c47415"
      },
      "source": [
        "a[:-1]"
      ],
      "execution_count": null,
      "outputs": [
        {
          "output_type": "execute_result",
          "data": {
            "text/plain": [
              "[1, 2, 3.4, 'sangeeth', True, False, (2+3j)]"
            ]
          },
          "metadata": {
            "tags": []
          },
          "execution_count": 26
        }
      ]
    },
    {
      "cell_type": "code",
      "metadata": {
        "colab": {
          "base_uri": "https://localhost:8080/"
        },
        "id": "yX_YMDSMsaJ_",
        "outputId": "c44a8484-c251-4415-b41f-e82764da3707"
      },
      "source": [
        "a[-1:-5]"
      ],
      "execution_count": null,
      "outputs": [
        {
          "output_type": "execute_result",
          "data": {
            "text/plain": [
              "[]"
            ]
          },
          "metadata": {
            "tags": []
          },
          "execution_count": 27
        }
      ]
    },
    {
      "cell_type": "code",
      "metadata": {
        "colab": {
          "base_uri": "https://localhost:8080/"
        },
        "id": "W67OKqZdseE2",
        "outputId": "250df2b1-2a78-4469-bb2a-d3dc8c705cce"
      },
      "source": [
        "a[-5:-1]"
      ],
      "execution_count": null,
      "outputs": [
        {
          "output_type": "execute_result",
          "data": {
            "text/plain": [
              "['sangeeth', True, False, (2+3j)]"
            ]
          },
          "metadata": {
            "tags": []
          },
          "execution_count": 28
        }
      ]
    },
    {
      "cell_type": "code",
      "metadata": {
        "colab": {
          "base_uri": "https://localhost:8080/"
        },
        "id": "lf_5PiC4sjI_",
        "outputId": "d61bc393-5f1a-4bfe-aa99-1756fcfbc2a8"
      },
      "source": [
        "b= [1, 2, 3.4, 'sangeeth', True, False, (2+3j), 0,1, 2, 3.4, 'sangeeth', True, False, (2+3j), 0,1, 2, 3.4, 'sangeeth', True, False, (2+3j), 0]\n",
        "b[0:15:2]"
      ],
      "execution_count": null,
      "outputs": [
        {
          "output_type": "execute_result",
          "data": {
            "text/plain": [
              "[1, 3.4, True, (2+3j), 1, 3.4, True, (2+3j)]"
            ]
          },
          "metadata": {
            "tags": []
          },
          "execution_count": 30
        }
      ]
    },
    {
      "cell_type": "code",
      "metadata": {
        "colab": {
          "base_uri": "https://localhost:8080/"
        },
        "id": "iQrJrPJ1syyW",
        "outputId": "ab72d19d-5323-4de2-d5bc-7a6bef8cc87f"
      },
      "source": [
        "b[1:15:3]"
      ],
      "execution_count": null,
      "outputs": [
        {
          "output_type": "execute_result",
          "data": {
            "text/plain": [
              "[2, True, 0, 3.4, False]"
            ]
          },
          "metadata": {
            "tags": []
          },
          "execution_count": 31
        }
      ]
    },
    {
      "cell_type": "code",
      "metadata": {
        "id": "MqsYiszZs_no"
      },
      "source": [
        "b.reverse()"
      ],
      "execution_count": null,
      "outputs": []
    },
    {
      "cell_type": "code",
      "metadata": {
        "colab": {
          "base_uri": "https://localhost:8080/"
        },
        "id": "kjxMgV_ltCUx",
        "outputId": "a746421e-5fb7-4f38-b318-e9770107d0e9"
      },
      "source": [
        "b"
      ],
      "execution_count": null,
      "outputs": [
        {
          "output_type": "execute_result",
          "data": {
            "text/plain": [
              "[0,\n",
              " (2+3j),\n",
              " False,\n",
              " True,\n",
              " 'sangeeth',\n",
              " 3.4,\n",
              " 2,\n",
              " 1,\n",
              " 0,\n",
              " (2+3j),\n",
              " False,\n",
              " True,\n",
              " 'sangeeth',\n",
              " 3.4,\n",
              " 2,\n",
              " 1,\n",
              " 0,\n",
              " (2+3j),\n",
              " False,\n",
              " True,\n",
              " 'sangeeth',\n",
              " 3.4,\n",
              " 2,\n",
              " 1]"
            ]
          },
          "metadata": {
            "tags": []
          },
          "execution_count": 33
        }
      ]
    },
    {
      "cell_type": "code",
      "metadata": {
        "colab": {
          "base_uri": "https://localhost:8080/"
        },
        "id": "ko-OBI0xtEu1",
        "outputId": "30fec0b9-d2cf-4341-9709-59cceefe1cdd"
      },
      "source": [
        "#Reshape an array\n",
        "\n",
        "arr1= np.array([[1,2,3,4],[2,3,4,5]])\n",
        "arr1"
      ],
      "execution_count": null,
      "outputs": [
        {
          "output_type": "execute_result",
          "data": {
            "text/plain": [
              "array([[1, 2, 3, 4],\n",
              "       [2, 3, 4, 5]])"
            ]
          },
          "metadata": {
            "tags": []
          },
          "execution_count": 35
        }
      ]
    },
    {
      "cell_type": "code",
      "metadata": {
        "colab": {
          "base_uri": "https://localhost:8080/"
        },
        "id": "UdTMWlRwtlG8",
        "outputId": "3289a655-3774-443b-ce04-fc77e2a915ec"
      },
      "source": [
        "arr1.shape"
      ],
      "execution_count": null,
      "outputs": [
        {
          "output_type": "execute_result",
          "data": {
            "text/plain": [
              "(2, 4)"
            ]
          },
          "metadata": {
            "tags": []
          },
          "execution_count": 36
        }
      ]
    },
    {
      "cell_type": "code",
      "metadata": {
        "colab": {
          "base_uri": "https://localhost:8080/"
        },
        "id": "O5FZBfoKtvwO",
        "outputId": "7f6eec2c-ee36-4684-a8f7-6fb08938dcbd"
      },
      "source": [
        "arr1.reshape(1,8)"
      ],
      "execution_count": null,
      "outputs": [
        {
          "output_type": "execute_result",
          "data": {
            "text/plain": [
              "array([[1, 2, 3, 4, 2, 3, 4, 5]])"
            ]
          },
          "metadata": {
            "tags": []
          },
          "execution_count": 37
        }
      ]
    },
    {
      "cell_type": "code",
      "metadata": {
        "colab": {
          "base_uri": "https://localhost:8080/"
        },
        "id": "nKwZP1H2tzKL",
        "outputId": "502ba277-fe8b-4276-9612-9a38877f9b1a"
      },
      "source": [
        "arr1.reshape(8,1)"
      ],
      "execution_count": null,
      "outputs": [
        {
          "output_type": "execute_result",
          "data": {
            "text/plain": [
              "array([[1],\n",
              "       [2],\n",
              "       [3],\n",
              "       [4],\n",
              "       [2],\n",
              "       [3],\n",
              "       [4],\n",
              "       [5]])"
            ]
          },
          "metadata": {
            "tags": []
          },
          "execution_count": 38
        }
      ]
    },
    {
      "cell_type": "code",
      "metadata": {
        "colab": {
          "base_uri": "https://localhost:8080/",
          "height": 166
        },
        "id": "gXxusyhgt2qp",
        "outputId": "de39d10b-0b8e-40be-8942-14639b06fc45"
      },
      "source": [
        "arr1.reshape(2,6)"
      ],
      "execution_count": null,
      "outputs": [
        {
          "output_type": "error",
          "ename": "ValueError",
          "evalue": "ignored",
          "traceback": [
            "\u001b[0;31m---------------------------------------------------------------------------\u001b[0m",
            "\u001b[0;31mValueError\u001b[0m                                Traceback (most recent call last)",
            "\u001b[0;32m<ipython-input-39-25e61ef7234b>\u001b[0m in \u001b[0;36m<module>\u001b[0;34m()\u001b[0m\n\u001b[0;32m----> 1\u001b[0;31m \u001b[0marr1\u001b[0m\u001b[0;34m.\u001b[0m\u001b[0mreshape\u001b[0m\u001b[0;34m(\u001b[0m\u001b[0;36m2\u001b[0m\u001b[0;34m,\u001b[0m\u001b[0;36m6\u001b[0m\u001b[0;34m)\u001b[0m\u001b[0;34m\u001b[0m\u001b[0;34m\u001b[0m\u001b[0m\n\u001b[0m",
            "\u001b[0;31mValueError\u001b[0m: cannot reshape array of size 8 into shape (2,6)"
          ]
        }
      ]
    },
    {
      "cell_type": "markdown",
      "metadata": {
        "id": "f3ddzawRuERp"
      },
      "source": [
        "#PANDAS- A Data handling mechanism. need to upload data and get the link to read the data"
      ]
    },
    {
      "cell_type": "code",
      "metadata": {
        "id": "yFbqiK3ft643"
      },
      "source": [
        ""
      ],
      "execution_count": null,
      "outputs": []
    }
  ]
}