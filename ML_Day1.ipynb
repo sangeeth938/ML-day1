{
  "nbformat": 4,
  "nbformat_minor": 0,
  "metadata": {
    "colab": {
      "name": "ML Day1.ipynb",
      "provenance": [],
      "authorship_tag": "ABX9TyNp9UR2jRAiRAG9w4nupdim",
      "include_colab_link": true
    },
    "kernelspec": {
      "name": "python3",
      "display_name": "Python 3"
    },
    "language_info": {
      "name": "python"
    }
  },
  "cells": [
    {
      "cell_type": "markdown",
      "metadata": {
        "id": "view-in-github",
        "colab_type": "text"
      },
      "source": [
        "<a href=\"https://colab.research.google.com/github/sangeeth938/ML-day1/blob/main/ML_Day1.ipynb\" target=\"_parent\"><img src=\"https://colab.research.google.com/assets/colab-badge.svg\" alt=\"Open In Colab\"/></a>"
      ]
    },
    {
      "cell_type": "markdown",
      "metadata": {
        "id": "5sD5oaTzXGWI"
      },
      "source": [
        "# **NUMPY**"
      ]
    },
    {
      "cell_type": "code",
      "metadata": {
        "colab": {
          "base_uri": "https://localhost:8080/"
        },
        "id": "k9OPpXGQWHMx",
        "outputId": "cfdf00a3-7708-4de3-8f04-220733e44306"
      },
      "source": [
        "import numpy as np\n",
        "a=[1,2,3,4]\n",
        "arr1=np.array(a)\n",
        "b=[[1,2,3,4],[5,6,7,8]]\n",
        "arr2=np.array(b)\n",
        "print(arr1)\n",
        "print(arr2)\n"
      ],
      "execution_count": 2,
      "outputs": [
        {
          "output_type": "stream",
          "text": [
            "[1 2 3 4]\n",
            "[[1 2 3 4]\n",
            " [5 6 7 8]]\n"
          ],
          "name": "stdout"
        }
      ]
    },
    {
      "cell_type": "code",
      "metadata": {
        "colab": {
          "base_uri": "https://localhost:8080/"
        },
        "id": "OsLA7bkLXf9U",
        "outputId": "a0fa957f-9639-4d25-a0da-6b71b904f6a0"
      },
      "source": [
        "print(type(a))\n",
        "print(type(arr1))\n",
        "print(type(b))\n",
        "print(type(arr2))"
      ],
      "execution_count": 3,
      "outputs": [
        {
          "output_type": "stream",
          "text": [
            "<class 'list'>\n",
            "<class 'numpy.ndarray'>\n",
            "<class 'list'>\n",
            "<class 'numpy.ndarray'>\n"
          ],
          "name": "stdout"
        }
      ]
    },
    {
      "cell_type": "code",
      "metadata": {
        "id": "1zAhzB-0XsVW"
      },
      "source": [
        ""
      ],
      "execution_count": null,
      "outputs": []
    }
  ]
}