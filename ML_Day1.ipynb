{
  "nbformat": 4,
  "nbformat_minor": 0,
  "metadata": {
    "colab": {
      "name": "ML Day1.ipynb",
      "provenance": [],
      "authorship_tag": "ABX9TyPFXqbqTqD/1t7/tC33WNqt",
      "include_colab_link": true
    },
    "kernelspec": {
      "name": "python3",
      "display_name": "Python 3"
    },
    "language_info": {
      "name": "python"
    }
  },
  "cells": [
    {
      "cell_type": "markdown",
      "metadata": {
        "id": "view-in-github",
        "colab_type": "text"
      },
      "source": [
        "<a href=\"https://colab.research.google.com/github/sangeeth938/ML-day1/blob/main/ML_Day1.ipynb\" target=\"_parent\"><img src=\"https://colab.research.google.com/assets/colab-badge.svg\" alt=\"Open In Colab\"/></a>"
      ]
    },
    {
      "cell_type": "markdown",
      "metadata": {
        "id": "5sD5oaTzXGWI"
      },
      "source": [
        "# **NUMPY**"
      ]
    },
    {
      "cell_type": "code",
      "metadata": {
        "colab": {
          "base_uri": "https://localhost:8080/"
        },
        "id": "k9OPpXGQWHMx",
        "outputId": "cfdf00a3-7708-4de3-8f04-220733e44306"
      },
      "source": [
        "import numpy as np\n",
        "a=[1,2,3,4]\n",
        "arr1=np.array(a)\n",
        "b=[[1,2,3,4],[5,6,7,8]]\n",
        "arr2=np.array(b)\n",
        "print(arr1)\n",
        "print(arr2)\n"
      ],
      "execution_count": 2,
      "outputs": [
        {
          "output_type": "stream",
          "text": [
            "[1 2 3 4]\n",
            "[[1 2 3 4]\n",
            " [5 6 7 8]]\n"
          ],
          "name": "stdout"
        }
      ]
    },
    {
      "cell_type": "code",
      "metadata": {
        "colab": {
          "base_uri": "https://localhost:8080/"
        },
        "id": "OsLA7bkLXf9U",
        "outputId": "a0fa957f-9639-4d25-a0da-6b71b904f6a0"
      },
      "source": [
        "print(type(a))\n",
        "print(type(arr1))\n",
        "print(type(b))\n",
        "print(type(arr2))"
      ],
      "execution_count": 3,
      "outputs": [
        {
          "output_type": "stream",
          "text": [
            "<class 'list'>\n",
            "<class 'numpy.ndarray'>\n",
            "<class 'list'>\n",
            "<class 'numpy.ndarray'>\n"
          ],
          "name": "stdout"
        }
      ]
    },
    {
      "cell_type": "code",
      "metadata": {
        "colab": {
          "base_uri": "https://localhost:8080/"
        },
        "id": "1zAhzB-0XsVW",
        "outputId": "c959cd06-c670-4c81-c2dc-dd85cf2c7d60"
      },
      "source": [
        "import sys\n",
        "\n",
        "s=range(1000)\n",
        "print(s)"
      ],
      "execution_count": 4,
      "outputs": [
        {
          "output_type": "stream",
          "text": [
            "range(0, 1000)\n"
          ],
          "name": "stdout"
        }
      ]
    },
    {
      "cell_type": "code",
      "metadata": {
        "colab": {
          "base_uri": "https://localhost:8080/",
          "height": 166
        },
        "id": "P04QnY_HbMMO",
        "outputId": "6f5d5f8a-9f2d-4197-888e-014eaa038541"
      },
      "source": [
        "print(random.s)\n",
        "slice"
      ],
      "execution_count": 5,
      "outputs": [
        {
          "output_type": "error",
          "ename": "NameError",
          "evalue": "ignored",
          "traceback": [
            "\u001b[0;31m---------------------------------------------------------------------------\u001b[0m",
            "\u001b[0;31mNameError\u001b[0m                                 Traceback (most recent call last)",
            "\u001b[0;32m<ipython-input-5-a30b31fb6d48>\u001b[0m in \u001b[0;36m<module>\u001b[0;34m()\u001b[0m\n\u001b[0;32m----> 1\u001b[0;31m \u001b[0mprint\u001b[0m\u001b[0;34m(\u001b[0m\u001b[0mrandom\u001b[0m\u001b[0;34m.\u001b[0m\u001b[0ms\u001b[0m\u001b[0;34m)\u001b[0m\u001b[0;34m\u001b[0m\u001b[0;34m\u001b[0m\u001b[0m\n\u001b[0m",
            "\u001b[0;31mNameError\u001b[0m: name 'random' is not defined"
          ]
        }
      ]
    },
    {
      "cell_type": "code",
      "metadata": {
        "colab": {
          "base_uri": "https://localhost:8080/"
        },
        "id": "4KX28DYvbQ6t",
        "outputId": "a870fa5c-35dc-436a-99a1-f3400db20ed5"
      },
      "source": [
        "print(\"size of each element in s:\",sys.getsizeof(s))\n",
        "print(\"complete size of s is\", sys.getsizeof(s)*len(s))"
      ],
      "execution_count": 11,
      "outputs": [
        {
          "output_type": "stream",
          "text": [
            "size of each element in s: 8096\n",
            "complete size of s is 8096000\n"
          ],
          "name": "stdout"
        }
      ]
    },
    {
      "cell_type": "code",
      "metadata": {
        "colab": {
          "base_uri": "https://localhost:8080/"
        },
        "id": "3-MkFx4ybmH3",
        "outputId": "25b8990c-0ce8-408b-817e-df55cc468617"
      },
      "source": [
        "import numpy as np\n",
        "s=np.arange(1000)\n",
        "print(\"size of s in bytes\",  s.itemsize)\n",
        "print(\"complete size of s is\", s.itemsize*len(s))"
      ],
      "execution_count": 12,
      "outputs": [
        {
          "output_type": "stream",
          "text": [
            "size of s in bytes 8\n",
            "complete size of s is 8000\n"
          ],
          "name": "stdout"
        }
      ]
    },
    {
      "cell_type": "code",
      "metadata": {
        "colab": {
          "base_uri": "https://localhost:8080/"
        },
        "id": "PZhD66A1iFfl",
        "outputId": "71d315bf-fa28-4f9e-97a2-c57365e1db34"
      },
      "source": [
        "#importing time module and trying to find the taken for an execution\n",
        "import time\n",
        "a=range(1000)\n",
        "b=range(1000)\n",
        "start=time.time()\n",
        "ab=[(a*b) for a,b in zip(a,b)] #multiplication of items using list comprehend and zip is used for index multiplexing\n",
        "end=time.time()\n",
        "print(\"time taken for execution is\",end-start)"
      ],
      "execution_count": 19,
      "outputs": [
        {
          "output_type": "stream",
          "text": [
            "time taken for execution is 0.0001761913299560547\n"
          ],
          "name": "stdout"
        }
      ]
    },
    {
      "cell_type": "code",
      "metadata": {
        "colab": {
          "base_uri": "https://localhost:8080/"
        },
        "id": "Vkjxqlabk1bt",
        "outputId": "c3d2be59-6049-4632-a88d-dfd0e05dcaf7"
      },
      "source": [
        "#calculating execution time using numpy\n",
        "import numpy as np\n",
        "import time\n",
        "arr1=np.arange(1000)\n",
        "arr2=np.arange(1000)\n",
        "start=time.time()\n",
        "array_mul=arr1*arr2\n",
        "end=time.time()\n",
        "print(\"time taken for execution is\",end-start)"
      ],
      "execution_count": 18,
      "outputs": [
        {
          "output_type": "stream",
          "text": [
            "time taken for execution is 7.891654968261719e-05\n"
          ],
          "name": "stdout"
        }
      ]
    },
    {
      "cell_type": "code",
      "metadata": {
        "colab": {
          "base_uri": "https://localhost:8080/"
        },
        "id": "Guo3_wmalAjQ",
        "outputId": "f2cbd62c-3f00-47b1-bec2-11f6cc8e64b5"
      },
      "source": [
        "list1=[1,2,3,4]\n",
        "arr=np.array(list1)\n",
        "print(arr)"
      ],
      "execution_count": 21,
      "outputs": [
        {
          "output_type": "stream",
          "text": [
            "[1 2 3 4]\n"
          ],
          "name": "stdout"
        }
      ]
    },
    {
      "cell_type": "code",
      "metadata": {
        "colab": {
          "base_uri": "https://localhost:8080/",
          "height": 166
        },
        "id": "miGUNi-RmUdV",
        "outputId": "b69b486b-2803-46ac-dfce-ce4d453b6a4d"
      },
      "source": [
        "print(list1+1)"
      ],
      "execution_count": 22,
      "outputs": [
        {
          "output_type": "error",
          "ename": "TypeError",
          "evalue": "ignored",
          "traceback": [
            "\u001b[0;31m---------------------------------------------------------------------------\u001b[0m",
            "\u001b[0;31mTypeError\u001b[0m                                 Traceback (most recent call last)",
            "\u001b[0;32m<ipython-input-22-b1eed72796b3>\u001b[0m in \u001b[0;36m<module>\u001b[0;34m()\u001b[0m\n\u001b[0;32m----> 1\u001b[0;31m \u001b[0mprint\u001b[0m\u001b[0;34m(\u001b[0m\u001b[0mlist1\u001b[0m\u001b[0;34m+\u001b[0m\u001b[0;36m1\u001b[0m\u001b[0;34m)\u001b[0m\u001b[0;34m\u001b[0m\u001b[0;34m\u001b[0m\u001b[0m\n\u001b[0m",
            "\u001b[0;31mTypeError\u001b[0m: can only concatenate list (not \"int\") to list"
          ]
        }
      ]
    },
    {
      "cell_type": "code",
      "metadata": {
        "colab": {
          "base_uri": "https://localhost:8080/"
        },
        "id": "fXQEMUVumfFA",
        "outputId": "f07dfd0d-5618-4d73-e756-1b7118892a1c"
      },
      "source": [
        "print(arr+1)"
      ],
      "execution_count": 23,
      "outputs": [
        {
          "output_type": "stream",
          "text": [
            "[2 3 4 5]\n"
          ],
          "name": "stdout"
        }
      ]
    },
    {
      "cell_type": "code",
      "metadata": {
        "colab": {
          "base_uri": "https://localhost:8080/"
        },
        "id": "HYiVu5AMmikX",
        "outputId": "9a57dc1e-cf3b-498c-c370-8349ee192c47"
      },
      "source": [
        "print(arr)\n"
      ],
      "execution_count": 24,
      "outputs": [
        {
          "output_type": "stream",
          "text": [
            "[1 2 3 4]\n"
          ],
          "name": "stdout"
        }
      ]
    },
    {
      "cell_type": "code",
      "metadata": {
        "colab": {
          "base_uri": "https://localhost:8080/"
        },
        "id": "r_GtO_HYml0u",
        "outputId": "3839e4b1-3147-40a4-a7de-b20d3bb0a9ca"
      },
      "source": [
        "print(arr-1)"
      ],
      "execution_count": 25,
      "outputs": [
        {
          "output_type": "stream",
          "text": [
            "[0 1 2 3]\n"
          ],
          "name": "stdout"
        }
      ]
    },
    {
      "cell_type": "code",
      "metadata": {
        "id": "zSeht0x8mn30"
      },
      "source": [
        ""
      ],
      "execution_count": null,
      "outputs": []
    }
  ]
}